{
  "nbformat": 4,
  "nbformat_minor": 0,
  "metadata": {
    "colab": {
      "name": "Data Science Project with Python.ipynb",
      "provenance": [],
      "collapsed_sections": [
        "m6MRiOaXQajj",
        "QMSROGG8RZgv",
        "G30_gKDSSraZ",
        "kCf_jyXMTaoC",
        "_ssHqbuSTqQZ"
      ]
    },
    "kernelspec": {
      "name": "python3",
      "display_name": "Python 3"
    },
    "language_info": {
      "name": "python"
    }
  },
  "cells": [
    {
      "cell_type": "markdown",
      "metadata": {
        "id": "BaIgriBpQXZE"
      },
      "source": [
        "# **Data Science Project with Python**"
      ]
    },
    {
      "cell_type": "code",
      "metadata": {
        "id": "9vkSWuDNUXPv"
      },
      "source": [
        "import pandas as pd"
      ],
      "execution_count": 4,
      "outputs": []
    },
    {
      "cell_type": "code",
      "metadata": {
        "id": "rmYcwLmvUYV-"
      },
      "source": [
        "df = pd.read_csv('customer_churn.csv')"
      ],
      "execution_count": 8,
      "outputs": []
    },
    {
      "cell_type": "code",
      "metadata": {
        "id": "gBT7XnnKU3jT"
      },
      "source": [
        "df.head(4)"
      ],
      "execution_count": null,
      "outputs": []
    },
    {
      "cell_type": "markdown",
      "metadata": {
        "id": "m6MRiOaXQajj"
      },
      "source": [
        "# **A) Data Manipulation:**"
      ]
    },
    {
      "cell_type": "markdown",
      "metadata": {
        "id": "LpgDU6MFQuoa"
      },
      "source": [
        "**a.** Extract the 5th column & store it in ‘customer_5’"
      ]
    },
    {
      "cell_type": "code",
      "metadata": {
        "colab": {
          "base_uri": "https://localhost:8080/"
        },
        "id": "oHlvLIypQ4SZ",
        "outputId": "4a295e95-dd09-49f2-b2bb-82cd88150f72"
      },
      "source": [
        "customer_5 = df.iloc[:,4]\n",
        "customer_5.head(3)"
      ],
      "execution_count": 21,
      "outputs": [
        {
          "output_type": "execute_result",
          "data": {
            "text/plain": [
              "0    No\n",
              "1    No\n",
              "2    No\n",
              "Name: Dependents, dtype: object"
            ]
          },
          "metadata": {
            "tags": []
          },
          "execution_count": 21
        }
      ]
    },
    {
      "cell_type": "markdown",
      "metadata": {
        "id": "AzxhfvEkQ3CC"
      },
      "source": [
        "**b.** Extract the 15th column & store it in ‘customer_15’"
      ]
    },
    {
      "cell_type": "code",
      "metadata": {
        "colab": {
          "base_uri": "https://localhost:8080/"
        },
        "id": "TQkMHManQ3aC",
        "outputId": "2a19e104-f161-46b4-a3ad-b616bbb83f6c"
      },
      "source": [
        "customer_15 = df.iloc[:,14]\n",
        "customer_15.head(3)"
      ],
      "execution_count": 22,
      "outputs": [
        {
          "output_type": "execute_result",
          "data": {
            "text/plain": [
              "0    No\n",
              "1    No\n",
              "2    No\n",
              "Name: StreamingMovies, dtype: object"
            ]
          },
          "metadata": {
            "tags": []
          },
          "execution_count": 22
        }
      ]
    },
    {
      "cell_type": "markdown",
      "metadata": {
        "id": "1XEsvQZURDwI"
      },
      "source": [
        "**c.** Extract all the male senior citizens whose Payment Method is Electronic check & store the result in ‘senior_male_electronic’"
      ]
    },
    {
      "cell_type": "code",
      "metadata": {
        "colab": {
          "base_uri": "https://localhost:8080/",
          "height": 213
        },
        "id": "BExPv5ODRNOL",
        "outputId": "cea4fc64-76f5-4189-dcbd-d445a7405656"
      },
      "source": [
        "senior_male_electronic = df[(df['SeniorCitizen'] == 1) & (df['gender'] == 'Male') & (df['PaymentMethod'] == 'Electronic check')]\n",
        "senior_male_electronic.head(3)"
      ],
      "execution_count": 20,
      "outputs": [
        {
          "output_type": "execute_result",
          "data": {
            "text/html": [
              "<div>\n",
              "<style scoped>\n",
              "    .dataframe tbody tr th:only-of-type {\n",
              "        vertical-align: middle;\n",
              "    }\n",
              "\n",
              "    .dataframe tbody tr th {\n",
              "        vertical-align: top;\n",
              "    }\n",
              "\n",
              "    .dataframe thead th {\n",
              "        text-align: right;\n",
              "    }\n",
              "</style>\n",
              "<table border=\"1\" class=\"dataframe\">\n",
              "  <thead>\n",
              "    <tr style=\"text-align: right;\">\n",
              "      <th></th>\n",
              "      <th>customerID</th>\n",
              "      <th>gender</th>\n",
              "      <th>SeniorCitizen</th>\n",
              "      <th>Partner</th>\n",
              "      <th>Dependents</th>\n",
              "      <th>tenure</th>\n",
              "      <th>PhoneService</th>\n",
              "      <th>MultipleLines</th>\n",
              "      <th>InternetService</th>\n",
              "      <th>OnlineSecurity</th>\n",
              "      <th>OnlineBackup</th>\n",
              "      <th>DeviceProtection</th>\n",
              "      <th>TechSupport</th>\n",
              "      <th>StreamingTV</th>\n",
              "      <th>StreamingMovies</th>\n",
              "      <th>Contract</th>\n",
              "      <th>PaperlessBilling</th>\n",
              "      <th>PaymentMethod</th>\n",
              "      <th>MonthlyCharges</th>\n",
              "      <th>TotalCharges</th>\n",
              "      <th>Churn</th>\n",
              "    </tr>\n",
              "  </thead>\n",
              "  <tbody>\n",
              "    <tr>\n",
              "      <th>20</th>\n",
              "      <td>8779-QRDMV</td>\n",
              "      <td>Male</td>\n",
              "      <td>1</td>\n",
              "      <td>No</td>\n",
              "      <td>No</td>\n",
              "      <td>1</td>\n",
              "      <td>No</td>\n",
              "      <td>No phone service</td>\n",
              "      <td>DSL</td>\n",
              "      <td>No</td>\n",
              "      <td>No</td>\n",
              "      <td>Yes</td>\n",
              "      <td>No</td>\n",
              "      <td>No</td>\n",
              "      <td>Yes</td>\n",
              "      <td>Month-to-month</td>\n",
              "      <td>Yes</td>\n",
              "      <td>Electronic check</td>\n",
              "      <td>39.65</td>\n",
              "      <td>39.65</td>\n",
              "      <td>Yes</td>\n",
              "    </tr>\n",
              "    <tr>\n",
              "      <th>55</th>\n",
              "      <td>1658-BYGOY</td>\n",
              "      <td>Male</td>\n",
              "      <td>1</td>\n",
              "      <td>No</td>\n",
              "      <td>No</td>\n",
              "      <td>18</td>\n",
              "      <td>Yes</td>\n",
              "      <td>Yes</td>\n",
              "      <td>Fiber optic</td>\n",
              "      <td>No</td>\n",
              "      <td>No</td>\n",
              "      <td>No</td>\n",
              "      <td>No</td>\n",
              "      <td>Yes</td>\n",
              "      <td>Yes</td>\n",
              "      <td>Month-to-month</td>\n",
              "      <td>Yes</td>\n",
              "      <td>Electronic check</td>\n",
              "      <td>95.45</td>\n",
              "      <td>1752.55</td>\n",
              "      <td>Yes</td>\n",
              "    </tr>\n",
              "    <tr>\n",
              "      <th>57</th>\n",
              "      <td>5067-XJQFU</td>\n",
              "      <td>Male</td>\n",
              "      <td>1</td>\n",
              "      <td>Yes</td>\n",
              "      <td>Yes</td>\n",
              "      <td>66</td>\n",
              "      <td>Yes</td>\n",
              "      <td>Yes</td>\n",
              "      <td>Fiber optic</td>\n",
              "      <td>No</td>\n",
              "      <td>Yes</td>\n",
              "      <td>Yes</td>\n",
              "      <td>Yes</td>\n",
              "      <td>Yes</td>\n",
              "      <td>Yes</td>\n",
              "      <td>One year</td>\n",
              "      <td>Yes</td>\n",
              "      <td>Electronic check</td>\n",
              "      <td>108.45</td>\n",
              "      <td>7076.35</td>\n",
              "      <td>No</td>\n",
              "    </tr>\n",
              "  </tbody>\n",
              "</table>\n",
              "</div>"
            ],
            "text/plain": [
              "    customerID gender  SeniorCitizen  ... MonthlyCharges TotalCharges  Churn\n",
              "20  8779-QRDMV   Male              1  ...          39.65        39.65    Yes\n",
              "55  1658-BYGOY   Male              1  ...          95.45      1752.55    Yes\n",
              "57  5067-XJQFU   Male              1  ...         108.45      7076.35     No\n",
              "\n",
              "[3 rows x 21 columns]"
            ]
          },
          "metadata": {
            "tags": []
          },
          "execution_count": 20
        }
      ]
    },
    {
      "cell_type": "markdown",
      "metadata": {
        "id": "IcWfCET4RNjw"
      },
      "source": [
        "**d.** Extract all those customers whose tenure is greater than 70 months or their Monthly charges is more than 100$ & store the result in ‘customer_total_tenure’\n"
      ]
    },
    {
      "cell_type": "code",
      "metadata": {
        "colab": {
          "base_uri": "https://localhost:8080/",
          "height": 213
        },
        "id": "9oFMxnAZRQiT",
        "outputId": "d3bf5e86-b32e-487c-f78f-1759c5aa6fca"
      },
      "source": [
        "customer_total_tenure = df[(df['tenure'] > 70) | (df['MonthlyCharges'] > 100 )]\n",
        "customer_total_tenure.head(3)"
      ],
      "execution_count": 23,
      "outputs": [
        {
          "output_type": "execute_result",
          "data": {
            "text/html": [
              "<div>\n",
              "<style scoped>\n",
              "    .dataframe tbody tr th:only-of-type {\n",
              "        vertical-align: middle;\n",
              "    }\n",
              "\n",
              "    .dataframe tbody tr th {\n",
              "        vertical-align: top;\n",
              "    }\n",
              "\n",
              "    .dataframe thead th {\n",
              "        text-align: right;\n",
              "    }\n",
              "</style>\n",
              "<table border=\"1\" class=\"dataframe\">\n",
              "  <thead>\n",
              "    <tr style=\"text-align: right;\">\n",
              "      <th></th>\n",
              "      <th>customerID</th>\n",
              "      <th>gender</th>\n",
              "      <th>SeniorCitizen</th>\n",
              "      <th>Partner</th>\n",
              "      <th>Dependents</th>\n",
              "      <th>tenure</th>\n",
              "      <th>PhoneService</th>\n",
              "      <th>MultipleLines</th>\n",
              "      <th>InternetService</th>\n",
              "      <th>OnlineSecurity</th>\n",
              "      <th>OnlineBackup</th>\n",
              "      <th>DeviceProtection</th>\n",
              "      <th>TechSupport</th>\n",
              "      <th>StreamingTV</th>\n",
              "      <th>StreamingMovies</th>\n",
              "      <th>Contract</th>\n",
              "      <th>PaperlessBilling</th>\n",
              "      <th>PaymentMethod</th>\n",
              "      <th>MonthlyCharges</th>\n",
              "      <th>TotalCharges</th>\n",
              "      <th>Churn</th>\n",
              "    </tr>\n",
              "  </thead>\n",
              "  <tbody>\n",
              "    <tr>\n",
              "      <th>8</th>\n",
              "      <td>7892-POOKP</td>\n",
              "      <td>Female</td>\n",
              "      <td>0</td>\n",
              "      <td>Yes</td>\n",
              "      <td>No</td>\n",
              "      <td>28</td>\n",
              "      <td>Yes</td>\n",
              "      <td>Yes</td>\n",
              "      <td>Fiber optic</td>\n",
              "      <td>No</td>\n",
              "      <td>No</td>\n",
              "      <td>Yes</td>\n",
              "      <td>Yes</td>\n",
              "      <td>Yes</td>\n",
              "      <td>Yes</td>\n",
              "      <td>Month-to-month</td>\n",
              "      <td>Yes</td>\n",
              "      <td>Electronic check</td>\n",
              "      <td>104.80</td>\n",
              "      <td>3046.05</td>\n",
              "      <td>Yes</td>\n",
              "    </tr>\n",
              "    <tr>\n",
              "      <th>12</th>\n",
              "      <td>8091-TTVAX</td>\n",
              "      <td>Male</td>\n",
              "      <td>0</td>\n",
              "      <td>Yes</td>\n",
              "      <td>No</td>\n",
              "      <td>58</td>\n",
              "      <td>Yes</td>\n",
              "      <td>Yes</td>\n",
              "      <td>Fiber optic</td>\n",
              "      <td>No</td>\n",
              "      <td>No</td>\n",
              "      <td>Yes</td>\n",
              "      <td>No</td>\n",
              "      <td>Yes</td>\n",
              "      <td>Yes</td>\n",
              "      <td>One year</td>\n",
              "      <td>No</td>\n",
              "      <td>Credit card (automatic)</td>\n",
              "      <td>100.35</td>\n",
              "      <td>5681.1</td>\n",
              "      <td>No</td>\n",
              "    </tr>\n",
              "    <tr>\n",
              "      <th>13</th>\n",
              "      <td>0280-XJGEX</td>\n",
              "      <td>Male</td>\n",
              "      <td>0</td>\n",
              "      <td>No</td>\n",
              "      <td>No</td>\n",
              "      <td>49</td>\n",
              "      <td>Yes</td>\n",
              "      <td>Yes</td>\n",
              "      <td>Fiber optic</td>\n",
              "      <td>No</td>\n",
              "      <td>Yes</td>\n",
              "      <td>Yes</td>\n",
              "      <td>No</td>\n",
              "      <td>Yes</td>\n",
              "      <td>Yes</td>\n",
              "      <td>Month-to-month</td>\n",
              "      <td>Yes</td>\n",
              "      <td>Bank transfer (automatic)</td>\n",
              "      <td>103.70</td>\n",
              "      <td>5036.3</td>\n",
              "      <td>Yes</td>\n",
              "    </tr>\n",
              "  </tbody>\n",
              "</table>\n",
              "</div>"
            ],
            "text/plain": [
              "    customerID  gender  SeniorCitizen  ... MonthlyCharges TotalCharges  Churn\n",
              "8   7892-POOKP  Female              0  ...         104.80      3046.05    Yes\n",
              "12  8091-TTVAX    Male              0  ...         100.35       5681.1     No\n",
              "13  0280-XJGEX    Male              0  ...         103.70       5036.3    Yes\n",
              "\n",
              "[3 rows x 21 columns]"
            ]
          },
          "metadata": {
            "tags": []
          },
          "execution_count": 23
        }
      ]
    },
    {
      "cell_type": "markdown",
      "metadata": {
        "id": "S5zisqVgRREE"
      },
      "source": [
        "**e.** Extract all the customers whose Contract is of two years, payment method is Mailed\n",
        "check & the value of Churn is ‘Yes’ & store the result in ‘two_mail_yes’\n"
      ]
    },
    {
      "cell_type": "code",
      "metadata": {
        "colab": {
          "base_uri": "https://localhost:8080/",
          "height": 213
        },
        "id": "0tAc3YjXRUzy",
        "outputId": "e02c562d-c874-447d-8f37-c1c4ad732b7c"
      },
      "source": [
        "two_mail_yes = df[(df['Churn'] == 'Yes') & (df['Contract'] == 'Two year') & (df['PaymentMethod'] == 'Mailed check')]\n",
        "two_mail_yes.head(3)"
      ],
      "execution_count": 25,
      "outputs": [
        {
          "output_type": "execute_result",
          "data": {
            "text/html": [
              "<div>\n",
              "<style scoped>\n",
              "    .dataframe tbody tr th:only-of-type {\n",
              "        vertical-align: middle;\n",
              "    }\n",
              "\n",
              "    .dataframe tbody tr th {\n",
              "        vertical-align: top;\n",
              "    }\n",
              "\n",
              "    .dataframe thead th {\n",
              "        text-align: right;\n",
              "    }\n",
              "</style>\n",
              "<table border=\"1\" class=\"dataframe\">\n",
              "  <thead>\n",
              "    <tr style=\"text-align: right;\">\n",
              "      <th></th>\n",
              "      <th>customerID</th>\n",
              "      <th>gender</th>\n",
              "      <th>SeniorCitizen</th>\n",
              "      <th>Partner</th>\n",
              "      <th>Dependents</th>\n",
              "      <th>tenure</th>\n",
              "      <th>PhoneService</th>\n",
              "      <th>MultipleLines</th>\n",
              "      <th>InternetService</th>\n",
              "      <th>OnlineSecurity</th>\n",
              "      <th>OnlineBackup</th>\n",
              "      <th>DeviceProtection</th>\n",
              "      <th>TechSupport</th>\n",
              "      <th>StreamingTV</th>\n",
              "      <th>StreamingMovies</th>\n",
              "      <th>Contract</th>\n",
              "      <th>PaperlessBilling</th>\n",
              "      <th>PaymentMethod</th>\n",
              "      <th>MonthlyCharges</th>\n",
              "      <th>TotalCharges</th>\n",
              "      <th>Churn</th>\n",
              "    </tr>\n",
              "  </thead>\n",
              "  <tbody>\n",
              "    <tr>\n",
              "      <th>268</th>\n",
              "      <td>6323-AYBRX</td>\n",
              "      <td>Male</td>\n",
              "      <td>0</td>\n",
              "      <td>No</td>\n",
              "      <td>No</td>\n",
              "      <td>59</td>\n",
              "      <td>Yes</td>\n",
              "      <td>No</td>\n",
              "      <td>No</td>\n",
              "      <td>No internet service</td>\n",
              "      <td>No internet service</td>\n",
              "      <td>No internet service</td>\n",
              "      <td>No internet service</td>\n",
              "      <td>No internet service</td>\n",
              "      <td>No internet service</td>\n",
              "      <td>Two year</td>\n",
              "      <td>No</td>\n",
              "      <td>Mailed check</td>\n",
              "      <td>19.35</td>\n",
              "      <td>1099.6</td>\n",
              "      <td>Yes</td>\n",
              "    </tr>\n",
              "    <tr>\n",
              "      <th>5947</th>\n",
              "      <td>7951-QKZPL</td>\n",
              "      <td>Female</td>\n",
              "      <td>0</td>\n",
              "      <td>Yes</td>\n",
              "      <td>Yes</td>\n",
              "      <td>33</td>\n",
              "      <td>Yes</td>\n",
              "      <td>Yes</td>\n",
              "      <td>No</td>\n",
              "      <td>No internet service</td>\n",
              "      <td>No internet service</td>\n",
              "      <td>No internet service</td>\n",
              "      <td>No internet service</td>\n",
              "      <td>No internet service</td>\n",
              "      <td>No internet service</td>\n",
              "      <td>Two year</td>\n",
              "      <td>Yes</td>\n",
              "      <td>Mailed check</td>\n",
              "      <td>24.50</td>\n",
              "      <td>740.3</td>\n",
              "      <td>Yes</td>\n",
              "    </tr>\n",
              "    <tr>\n",
              "      <th>6680</th>\n",
              "      <td>9412-ARGBX</td>\n",
              "      <td>Female</td>\n",
              "      <td>0</td>\n",
              "      <td>No</td>\n",
              "      <td>Yes</td>\n",
              "      <td>48</td>\n",
              "      <td>Yes</td>\n",
              "      <td>No</td>\n",
              "      <td>Fiber optic</td>\n",
              "      <td>No</td>\n",
              "      <td>Yes</td>\n",
              "      <td>Yes</td>\n",
              "      <td>Yes</td>\n",
              "      <td>Yes</td>\n",
              "      <td>No</td>\n",
              "      <td>Two year</td>\n",
              "      <td>Yes</td>\n",
              "      <td>Mailed check</td>\n",
              "      <td>95.50</td>\n",
              "      <td>4627.85</td>\n",
              "      <td>Yes</td>\n",
              "    </tr>\n",
              "  </tbody>\n",
              "</table>\n",
              "</div>"
            ],
            "text/plain": [
              "      customerID  gender  SeniorCitizen  ... MonthlyCharges TotalCharges  Churn\n",
              "268   6323-AYBRX    Male              0  ...          19.35       1099.6    Yes\n",
              "5947  7951-QKZPL  Female              0  ...          24.50        740.3    Yes\n",
              "6680  9412-ARGBX  Female              0  ...          95.50      4627.85    Yes\n",
              "\n",
              "[3 rows x 21 columns]"
            ]
          },
          "metadata": {
            "tags": []
          },
          "execution_count": 25
        }
      ]
    },
    {
      "cell_type": "markdown",
      "metadata": {
        "id": "vfVb1lg5RVQk"
      },
      "source": [
        "**f.** Extract 333 random records from the customer_churndataframe& store the result in ‘customer_333’\n"
      ]
    },
    {
      "cell_type": "code",
      "metadata": {
        "id": "ZqgbvxLjRXZ6"
      },
      "source": [
        "customer_333 = df.sample(n = 333)"
      ],
      "execution_count": 28,
      "outputs": []
    },
    {
      "cell_type": "code",
      "metadata": {
        "colab": {
          "base_uri": "https://localhost:8080/"
        },
        "id": "dwwwhOaJWowC",
        "outputId": "928bfbb6-2772-4a59-a67d-ea12d435b4b7"
      },
      "source": [
        "customer_333.shape"
      ],
      "execution_count": 29,
      "outputs": [
        {
          "output_type": "execute_result",
          "data": {
            "text/plain": [
              "(333, 21)"
            ]
          },
          "metadata": {
            "tags": []
          },
          "execution_count": 29
        }
      ]
    },
    {
      "cell_type": "markdown",
      "metadata": {
        "id": "CFFbjLGlRYRZ"
      },
      "source": [
        "**g.** Get the count of different levels from the ‘Churn’ column"
      ]
    },
    {
      "cell_type": "code",
      "metadata": {
        "colab": {
          "base_uri": "https://localhost:8080/"
        },
        "id": "rVOkF-OZRY3x",
        "outputId": "f2708964-fd57-4b9f-e3c4-79a407f5c159"
      },
      "source": [
        "df['Churn'].value_counts()"
      ],
      "execution_count": 30,
      "outputs": [
        {
          "output_type": "execute_result",
          "data": {
            "text/plain": [
              "No     5174\n",
              "Yes    1869\n",
              "Name: Churn, dtype: int64"
            ]
          },
          "metadata": {
            "tags": []
          },
          "execution_count": 30
        }
      ]
    },
    {
      "cell_type": "markdown",
      "metadata": {
        "id": "QMSROGG8RZgv"
      },
      "source": [
        "# **B) Data Visualization:**"
      ]
    },
    {
      "cell_type": "code",
      "metadata": {
        "id": "lqtrv8k0W9er"
      },
      "source": [
        "import matplotlib.pyplot as plt"
      ],
      "execution_count": 31,
      "outputs": []
    },
    {
      "cell_type": "markdown",
      "metadata": {
        "id": "5yqsZDFJRgyG"
      },
      "source": [
        "**a. Build a bar-plot for the ’InternetService’ column:**"
      ]
    },
    {
      "cell_type": "markdown",
      "metadata": {
        "id": "A6RMvjlmRrcd"
      },
      "source": [
        "**i.** Set x-axis label to ‘Categories of Internet Service’\n",
        "\n",
        "**ii.** Set y-axis label to ‘Count of Categories’\n",
        "\n",
        "**iii.** Set the title of plot to be ‘Distribution of Internet Service’\n",
        "\n",
        "**iv.** Set the color of the bars to be ‘orange’"
      ]
    },
    {
      "cell_type": "code",
      "metadata": {
        "id": "286tuzjtXJ43"
      },
      "source": [
        "x = df['InternetService'].value_counts().keys()\n",
        "y = df['InternetService'].value_counts().values"
      ],
      "execution_count": 32,
      "outputs": []
    },
    {
      "cell_type": "code",
      "metadata": {
        "colab": {
          "base_uri": "https://localhost:8080/",
          "height": 295
        },
        "id": "SoL0Zx_NRhbj",
        "outputId": "2fb512a2-8ed7-4f69-f25d-ec299eeae5f4"
      },
      "source": [
        "plt.bar(x,height = y,color = 'orange')\n",
        "plt.xlabel('Categories of Internet Service')\n",
        "plt.ylabel('Count of Categories')\n",
        "plt.title('Distribution of Internet Service')\n",
        "plt.show()"
      ],
      "execution_count": 34,
      "outputs": [
        {
          "output_type": "display_data",
          "data": {
            "image/png": "[encoded data removed]",
            "text/plain": [
              "<Figure size 432x288 with 1 Axes>"
            ]
          },
          "metadata": {
            "tags": [],
            "needs_background": "light"
          }
        }
      ]
    },
    {
      "cell_type": "markdown",
      "metadata": {
        "id": "4DgrqGzaRwXp"
      },
      "source": [
        "**b. Build a histogram for the ‘tenure’ column:**\n"
      ]
    },
    {
      "cell_type": "markdown",
      "metadata": {
        "id": "98ryzj3IR2jr"
      },
      "source": [
        "**i.** Set the number of bins to be 30\n",
        "\n",
        "**ii.**Set the color of the bins to be ‘green’\n",
        "\n",
        "**iii.** Assign the title ‘Distribution of tenure’"
      ]
    },
    {
      "cell_type": "code",
      "metadata": {
        "colab": {
          "base_uri": "https://localhost:8080/",
          "height": 281
        },
        "id": "69_tRFNPR5yl",
        "outputId": "c5c1cfca-6b72-44c2-a005-f6b928518963"
      },
      "source": [
        "plt.hist(df['tenure'],bins = 30,color='green')\n",
        "plt.title('Distribution of tenure')\n",
        "plt.show()"
      ],
      "execution_count": 37,
      "outputs": [
        {
          "output_type": "display_data",
          "data": {
            "image/png": "[encoded data removed]",
            "text/plain": [
              "<Figure size 432x288 with 1 Axes>"
            ]
          },
          "metadata": {
            "tags": [],
            "needs_background": "light"
          }
        }
      ]
    },
    {
      "cell_type": "markdown",
      "metadata": {
        "id": "pTM9yBEkR6Hh"
      },
      "source": [
        "**c. Build a scatter-plot between ‘MonthlyCharges’ & ‘tenure’. Map ‘MonthlyCharges’ to the y-axis & ‘tenure’ to the ‘x-axis’:**\n"
      ]
    },
    {
      "cell_type": "markdown",
      "metadata": {
        "id": "EtAAhT_MSFq2"
      },
      "source": [
        "**i.** Assign the points a color of ‘brown’\n",
        "\n",
        "**ii.** Set the x-axis label to ‘Tenure of customer’\n",
        "\n",
        "**iii.** Set the y-axis label to ‘Monthly Charges of customer’\n",
        "\n",
        "**iv.** Set the title to ‘Tenure vs Monthly Charges’"
      ]
    },
    {
      "cell_type": "code",
      "metadata": {
        "colab": {
          "base_uri": "https://localhost:8080/",
          "height": 295
        },
        "id": "oKbs-uoOSNZH",
        "outputId": "673b897d-a153-4a6e-daa1-61fdc0047f20"
      },
      "source": [
        "plt.scatter(df['tenure'],df['MonthlyCharges'],color ='brown')\n",
        "plt.xlabel('Tenure of customer')\n",
        "plt.ylabel('Monthly Charges of customer')\n",
        "plt.title('Tenure vs Monthly Charges')\n",
        "plt.show()"
      ],
      "execution_count": 38,
      "outputs": [
        {
          "output_type": "display_data",
          "data": {
            "image/png": "[encoded data removed]",
            "text/plain": [
              "<Figure size 432x288 with 1 Axes>"
            ]
          },
          "metadata": {
            "tags": [],
            "needs_background": "light"
          }
        }
      ]
    },
    {
      "cell_type": "markdown",
      "metadata": {
        "id": "RYDHPClsSNwN"
      },
      "source": [
        "**d. Build a box-plot between ‘tenure’ & ‘Contract’. Map ‘tenure’ on the y-axis & ‘Contract’ on the x-axis.**"
      ]
    },
    {
      "cell_type": "code",
      "metadata": {
        "colab": {
          "base_uri": "https://localhost:8080/",
          "height": 279
        },
        "id": "yz-Werd1SR0D",
        "outputId": "16c03325-e766-4603-b405-6ab2465b99e1"
      },
      "source": [
        "import seaborn as sns\n",
        "sns.boxplot(x = df['Contract'], y = df['tenure'])\n",
        "plt.show()"
      ],
      "execution_count": 40,
      "outputs": [
        {
          "output_type": "display_data",
          "data": {
            "image/png": "[encoded data removed]",
            "text/plain": [
              "<Figure size 432x288 with 1 Axes>"
            ]
          },
          "metadata": {
            "tags": [],
            "needs_background": "light"
          }
        }
      ]
    },
    {
      "cell_type": "markdown",
      "metadata": {
        "id": "fPYjLRN2SSWq"
      },
      "source": [
        "# **C) Linear Regression:**"
      ]
    },
    {
      "cell_type": "markdown",
      "metadata": {
        "id": "yxs8Yxu5SXUS"
      },
      "source": [
        "**a. Build a simple linear model where dependent variable is ‘MonthlyCharges’ and independent variable is ‘tenure’**\n"
      ]
    },
    {
      "cell_type": "code",
      "metadata": {
        "id": "f12wKfbPYg2C"
      },
      "source": [
        "from sklearn.linear_model import LinearRegression\n",
        "from sklearn.model_selection import train_test_split\n",
        "from sklearn.metrics import mean_squared_error\n",
        "\n",
        "import numpy as np"
      ],
      "execution_count": 41,
      "outputs": []
    },
    {
      "cell_type": "markdown",
      "metadata": {
        "id": "H7k8bDKLSdvO"
      },
      "source": [
        "**i.** Divide the dataset into train and test sets in 70:30 ratio.\n"
      ]
    },
    {
      "cell_type": "code",
      "metadata": {
        "id": "DQmpBxO6Sicu"
      },
      "source": [
        "X = df['tenure'].values.reshape(-1,1)\n",
        "y = df['MonthlyCharges']\n",
        "X_train, X_test, y_train, y_test = train_test_split(X, y, test_size=0.30, random_state=42)"
      ],
      "execution_count": 42,
      "outputs": []
    },
    {
      "cell_type": "markdown",
      "metadata": {
        "id": "li6n7GgKSi4F"
      },
      "source": [
        "**ii.** Build the model on train set and predict the values on test set\n"
      ]
    },
    {
      "cell_type": "code",
      "metadata": {
        "id": "yS6k-KkTSkUD"
      },
      "source": [
        "lr = LinearRegression().fit(X_train, y_train)"
      ],
      "execution_count": 43,
      "outputs": []
    },
    {
      "cell_type": "markdown",
      "metadata": {
        "id": "UfiQdyvtSkj7"
      },
      "source": [
        "**iii.** After predicting the values, find the root mean square error\n"
      ]
    },
    {
      "cell_type": "code",
      "metadata": {
        "colab": {
          "base_uri": "https://localhost:8080/"
        },
        "id": "ctjjCaeYSl-S",
        "outputId": "674ea074-413c-4af5-ebf5-97488e5585fd"
      },
      "source": [
        "y_pred = lr.predict(X_test)\n",
        "y_pred"
      ],
      "execution_count": 48,
      "outputs": [
        {
          "output_type": "execute_result",
          "data": {
            "text/plain": [
              "array([55.10659011, 67.43520921, 70.82557946, ..., 73.29130328,\n",
              "       60.96268418, 61.57911514])"
            ]
          },
          "metadata": {
            "tags": []
          },
          "execution_count": 48
        }
      ]
    },
    {
      "cell_type": "markdown",
      "metadata": {
        "id": "VBAxTgtuSmfP"
      },
      "source": [
        "**iv.** Find out the error in prediction & store the result in ‘error’\n"
      ]
    },
    {
      "cell_type": "code",
      "metadata": {
        "colab": {
          "base_uri": "https://localhost:8080/"
        },
        "id": "Vj8dRpcxSoA_",
        "outputId": "5bdbf973-c287-4163-f59b-63cc7bb6c1b2"
      },
      "source": [
        "error = y_pred - y_test\n",
        "error"
      ],
      "execution_count": 47,
      "outputs": [
        {
          "output_type": "execute_result",
          "data": {
            "text/plain": [
              "185     30.306590\n",
              "2715    42.185209\n",
              "3825    51.475579\n",
              "1807   -21.243410\n",
              "132     24.898812\n",
              "          ...    \n",
              "5522   -15.043410\n",
              "6377    10.456590\n",
              "5500    12.791303\n",
              "2392   -29.737316\n",
              "6705    10.479115\n",
              "Name: MonthlyCharges, Length: 2113, dtype: float64"
            ]
          },
          "metadata": {
            "tags": []
          },
          "execution_count": 47
        }
      ]
    },
    {
      "cell_type": "markdown",
      "metadata": {
        "id": "HStemwDaSoPQ"
      },
      "source": [
        "**v.** Find the root mean square error"
      ]
    },
    {
      "cell_type": "code",
      "metadata": {
        "colab": {
          "base_uri": "https://localhost:8080/"
        },
        "id": "sJ8tbvb6So0D",
        "outputId": "f191c286-5d60-4c46-c9c2-f43ea5c6c34b"
      },
      "source": [
        "np.sqrt(((error) ** 2).mean())"
      ],
      "execution_count": 53,
      "outputs": [
        {
          "output_type": "execute_result",
          "data": {
            "text/plain": [
              "29.07936015646816"
            ]
          },
          "metadata": {
            "tags": []
          },
          "execution_count": 53
        }
      ]
    },
    {
      "cell_type": "markdown",
      "metadata": {
        "id": "G30_gKDSSraZ"
      },
      "source": [
        "# **D) Logistic Regression:**"
      ]
    },
    {
      "cell_type": "markdown",
      "metadata": {
        "id": "L0asMAe8SvKG"
      },
      "source": [
        "**a. Build a simple logistic regression modelwhere dependent variable is ‘Churn’ & independent variable is ‘MonthlyCharges’**"
      ]
    },
    {
      "cell_type": "code",
      "metadata": {
        "id": "UM4cDLUJaBcw"
      },
      "source": [
        "from sklearn.linear_model import LogisticRegression\n",
        "from sklearn.metrics import confusion_matrix, accuracy_score"
      ],
      "execution_count": 54,
      "outputs": []
    },
    {
      "cell_type": "markdown",
      "metadata": {
        "id": "JT6WA082S11M"
      },
      "source": [
        "  **i.** Divide the dataset in 65:35 ratio"
      ]
    },
    {
      "cell_type": "code",
      "metadata": {
        "id": "aaMU4ySXS4Og"
      },
      "source": [
        "X = df['MonthlyCharges'].values.reshape(-1,1)\n",
        "y = df['Churn']\n",
        "X_train, X_test, y_train, y_test = train_test_split(X, y, test_size=0.35, random_state=42)"
      ],
      "execution_count": 56,
      "outputs": []
    },
    {
      "cell_type": "markdown",
      "metadata": {
        "id": "U95nbTLTS4dL"
      },
      "source": [
        "**ii.** Build the model on train set and predict the values on test set\n"
      ]
    },
    {
      "cell_type": "code",
      "metadata": {
        "id": "7_IYLcn8S_FB"
      },
      "source": [
        "logr = LogisticRegression().fit(X_train, y_train)"
      ],
      "execution_count": 58,
      "outputs": []
    },
    {
      "cell_type": "markdown",
      "metadata": {
        "id": "bpdO1M8BS_ib"
      },
      "source": [
        "**iii.** Build the confusion matrix and get the accuracy score"
      ]
    },
    {
      "cell_type": "code",
      "metadata": {
        "colab": {
          "base_uri": "https://localhost:8080/"
        },
        "id": "haPLP29nTAOw",
        "outputId": "14228180-8e86-45bc-8922-b84be365f74d"
      },
      "source": [
        "y_pred = logr.predict(X_test)\n",
        "\n",
        "print(confusion_matrix(y_test,y_pred))\n",
        "print(accuracy_score(y_test, y_pred))"
      ],
      "execution_count": 59,
      "outputs": [
        {
          "output_type": "stream",
          "text": [
            "[[1797    0]\n",
            " [ 669    0]]\n",
            "0.7287104622871047\n"
          ],
          "name": "stdout"
        }
      ]
    },
    {
      "cell_type": "markdown",
      "metadata": {
        "id": "__fSvtBPTPVo"
      },
      "source": [
        "**b. Build a multiple logistic regression model where dependent variable is ‘Churn’ & independent variables are ‘tenure’ & ‘MonthlyCharges’**\n"
      ]
    },
    {
      "cell_type": "markdown",
      "metadata": {
        "id": "UFFr67PvTUK-"
      },
      "source": [
        "**i.** Divide the dataset in 80:20 ratio\n"
      ]
    },
    {
      "cell_type": "code",
      "metadata": {
        "id": "2YiBSYHUTXBz"
      },
      "source": [
        "X = df[['MonthlyCharges','tenure']]\n",
        "y = df['Churn']\n",
        "X_train, X_test, y_train, y_test = train_test_split(X, y, test_size=0.20, random_state=42)"
      ],
      "execution_count": 60,
      "outputs": []
    },
    {
      "cell_type": "markdown",
      "metadata": {
        "id": "el8YNup1TXN2"
      },
      "source": [
        "**ii.** Build the model on train set and predict the values on test set\n"
      ]
    },
    {
      "cell_type": "code",
      "metadata": {
        "id": "hBiZdyxaTYVV"
      },
      "source": [
        "logrmulti = LogisticRegression().fit(X_train, y_train)"
      ],
      "execution_count": 62,
      "outputs": []
    },
    {
      "cell_type": "markdown",
      "metadata": {
        "id": "ZUsaNywHTYqo"
      },
      "source": [
        "**iii.** Build the confusion matrix and get the accuracy score"
      ]
    },
    {
      "cell_type": "code",
      "metadata": {
        "colab": {
          "base_uri": "https://localhost:8080/"
        },
        "id": "lc07LjygTZZa",
        "outputId": "0b0c7165-6522-404b-8f5b-9e0c05c69ac1"
      },
      "source": [
        "y_pred = logrmulti.predict(X_test)\n",
        "\n",
        "print(confusion_matrix(y_test,y_pred))\n",
        "print(accuracy_score(y_test, y_pred))"
      ],
      "execution_count": 64,
      "outputs": [
        {
          "output_type": "stream",
          "text": [
            "[[944  92]\n",
            " [193 180]]\n",
            "0.7977288857345636\n"
          ],
          "name": "stdout"
        }
      ]
    },
    {
      "cell_type": "markdown",
      "metadata": {
        "id": "kCf_jyXMTaoC"
      },
      "source": [
        "# **E) Decision Tree:**"
      ]
    },
    {
      "cell_type": "markdown",
      "metadata": {
        "id": "HXVf9J7zTd0c"
      },
      "source": [
        "**a. Build a decision tree model where dependent variable is ‘Churn’ & independent variable is ‘tenure’**"
      ]
    },
    {
      "cell_type": "code",
      "metadata": {
        "id": "2HJQ1inCaz6P"
      },
      "source": [
        "from sklearn.tree import DecisionTreeClassifier"
      ],
      "execution_count": 65,
      "outputs": []
    },
    {
      "cell_type": "markdown",
      "metadata": {
        "id": "Q2esmXx-TiKV"
      },
      "source": [
        "**i.** Divide the dataset in 80:20 ratio\n"
      ]
    },
    {
      "cell_type": "code",
      "metadata": {
        "id": "qb8Mlbo6TnRA"
      },
      "source": [
        "X = df['tenure'].values.reshape(-1,1)\n",
        "y = df['Churn']\n",
        "X_train, X_test, y_train, y_test = train_test_split(X, y, test_size=0.20, random_state=42)"
      ],
      "execution_count": 66,
      "outputs": []
    },
    {
      "cell_type": "markdown",
      "metadata": {
        "id": "armE7ymuTmes"
      },
      "source": [
        "**ii.** Build the model on train set and predict the values on test set\n"
      ]
    },
    {
      "cell_type": "code",
      "metadata": {
        "colab": {
          "base_uri": "https://localhost:8080/"
        },
        "id": "-Bn3XBs5TovJ",
        "outputId": "9d91280c-801e-43aa-e8ac-6633fdf81d0e"
      },
      "source": [
        "DTclf = DecisionTreeClassifier()\n",
        "DTclf.fit(X_train, y_train)"
      ],
      "execution_count": 68,
      "outputs": [
        {
          "output_type": "execute_result",
          "data": {
            "text/plain": [
              "DecisionTreeClassifier(ccp_alpha=0.0, class_weight=None, criterion='gini',\n",
              "                       max_depth=None, max_features=None, max_leaf_nodes=None,\n",
              "                       min_impurity_decrease=0.0, min_impurity_split=None,\n",
              "                       min_samples_leaf=1, min_samples_split=2,\n",
              "                       min_weight_fraction_leaf=0.0, presort='deprecated',\n",
              "                       random_state=None, splitter='best')"
            ]
          },
          "metadata": {
            "tags": []
          },
          "execution_count": 68
        }
      ]
    },
    {
      "cell_type": "markdown",
      "metadata": {
        "id": "w5bZogAfTpMq"
      },
      "source": [
        "**iii.** Build the confusion matrix and calculate the accuracy"
      ]
    },
    {
      "cell_type": "code",
      "metadata": {
        "colab": {
          "base_uri": "https://localhost:8080/"
        },
        "id": "e-5_VZfUTpr-",
        "outputId": "3284e2c1-31c9-4a39-dfeb-9b241ddd618f"
      },
      "source": [
        "y_pred = DTclf.predict(X_test)\n",
        "\n",
        "print(confusion_matrix(y_test,y_pred))\n",
        "print(accuracy_score(y_test, y_pred))"
      ],
      "execution_count": 69,
      "outputs": [
        {
          "output_type": "stream",
          "text": [
            "[[951  85]\n",
            " [257 116]]\n",
            "0.7572746628814763\n"
          ],
          "name": "stdout"
        }
      ]
    },
    {
      "cell_type": "markdown",
      "metadata": {
        "id": "_ssHqbuSTqQZ"
      },
      "source": [
        "# **F) Random Forest:**"
      ]
    },
    {
      "cell_type": "markdown",
      "metadata": {
        "id": "NnSEyonHTtoN"
      },
      "source": [
        "**a. Build a Random Forest model where dependent variable is ‘Churn’ & independent variables are ‘tenure’ and ‘MonthlyCharges’**\n"
      ]
    },
    {
      "cell_type": "code",
      "metadata": {
        "id": "EOASt1iJbE_x"
      },
      "source": [
        "from sklearn.ensemble import RandomForestClassifier"
      ],
      "execution_count": 70,
      "outputs": []
    },
    {
      "cell_type": "markdown",
      "metadata": {
        "id": "-qZwNsdLT0QY"
      },
      "source": [
        "**i.** Divide the dataset in 70:30 ratio\n"
      ]
    },
    {
      "cell_type": "code",
      "metadata": {
        "id": "ztbXKQIrT1wY"
      },
      "source": [
        "X = df[['MonthlyCharges','tenure']]\n",
        "y = df['Churn']\n",
        "X_train, X_test, y_train, y_test = train_test_split(X, y, test_size=0.30, random_state=42)"
      ],
      "execution_count": 71,
      "outputs": []
    },
    {
      "cell_type": "markdown",
      "metadata": {
        "id": "3igzV6rfT1_C"
      },
      "source": [
        "**ii.** Build the model on train set and predict the values on test set\n"
      ]
    },
    {
      "cell_type": "code",
      "metadata": {
        "colab": {
          "base_uri": "https://localhost:8080/"
        },
        "id": "1JWFHm2GT3Sw",
        "outputId": "7854fa97-2fc6-4fc3-97a5-f22803f435b1"
      },
      "source": [
        "RT = RandomForestClassifier()\n",
        "RT.fit(X_train, y_train)"
      ],
      "execution_count": 72,
      "outputs": [
        {
          "output_type": "execute_result",
          "data": {
            "text/plain": [
              "RandomForestClassifier(bootstrap=True, ccp_alpha=0.0, class_weight=None,\n",
              "                       criterion='gini', max_depth=None, max_features='auto',\n",
              "                       max_leaf_nodes=None, max_samples=None,\n",
              "                       min_impurity_decrease=0.0, min_impurity_split=None,\n",
              "                       min_samples_leaf=1, min_samples_split=2,\n",
              "                       min_weight_fraction_leaf=0.0, n_estimators=100,\n",
              "                       n_jobs=None, oob_score=False, random_state=None,\n",
              "                       verbose=0, warm_start=False)"
            ]
          },
          "metadata": {
            "tags": []
          },
          "execution_count": 72
        }
      ]
    },
    {
      "cell_type": "markdown",
      "metadata": {
        "id": "rNRLRMPkT3hr"
      },
      "source": [
        "**iii.** Build the confusion matrix and calculate the accuracy"
      ]
    },
    {
      "cell_type": "code",
      "metadata": {
        "colab": {
          "base_uri": "https://localhost:8080/"
        },
        "id": "yvYi1D4iT4Gb",
        "outputId": "ee7670fc-1e04-455e-9dc8-f1368db34b3f"
      },
      "source": [
        "y_pred = RT.predict(X_test)\n",
        "\n",
        "print(confusion_matrix(y_test,y_pred))\n",
        "print(accuracy_score(y_test, y_pred))"
      ],
      "execution_count": 73,
      "outputs": [
        {
          "output_type": "stream",
          "text": [
            "[[1332  207]\n",
            " [ 313  261]]\n",
            "0.7539044013251301\n"
          ],
          "name": "stdout"
        }
      ]
    }
  ]
}